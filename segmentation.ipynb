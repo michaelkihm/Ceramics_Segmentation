{
 "nbformat": 4,
 "nbformat_minor": 2,
 "metadata": {
  "language_info": {
   "name": "python",
   "codemirror_mode": {
    "name": "ipython",
    "version": 3
   },
   "version": "3.7.6-final"
  },
  "orig_nbformat": 2,
  "file_extension": ".py",
  "mimetype": "text/x-python",
  "name": "python",
  "npconvert_exporter": "python",
  "pygments_lexer": "ipython3",
  "version": 3,
  "kernelspec": {
   "name": "python37664bitceramicsegmentationcondaa521076fd6284f6c8f7fc7cb228b4f97",
   "display_name": "Python 3.7.6 64-bit ('Ceramic_Segmentation': conda)"
  }
 },
 "cells": [
  {
   "cell_type": "code",
   "execution_count": 1,
   "metadata": {},
   "outputs": [
    {
     "output_type": "stream",
     "name": "stdout",
     "text": "Segmentation Models: using `tf.keras` framework.\n"
    }
   ],
   "source": [
    "import segmentation_models as sm\n",
    "from tensorflow import keras"
   ]
  },
  {
   "cell_type": "code",
   "execution_count": null,
   "metadata": {},
   "outputs": [],
   "source": [
    "BACKBONE = 'resnet34'\n",
    "preprocess_input = sm.get_preprocessing(BACKBONE)\n",
    "\n",
    "path_train = 'Ceramic_dataset/train'\n",
    "path_train_a = 'Ceramic_dataset/trainannot'\n",
    "gen = DataGenerator(path_train,path_train_a,image_size=(240,240), batch_size=4)\n",
    "\n",
    "\n",
    "model = sm.Unet()"
   ]
  }
 ]
}