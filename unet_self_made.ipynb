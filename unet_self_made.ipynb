{
 "nbformat": 4,
 "nbformat_minor": 2,
 "metadata": {
  "language_info": {
   "name": "python",
   "codemirror_mode": {
    "name": "ipython",
    "version": 3
   },
   "version": "3.7.7-final"
  },
  "orig_nbformat": 2,
  "file_extension": ".py",
  "mimetype": "text/x-python",
  "name": "python",
  "npconvert_exporter": "python",
  "pygments_lexer": "ipython3",
  "version": 3,
  "kernelspec": {
   "name": "python37664bittensorflowtwogpuconda097cb55d2d964915924f9a923273a6a7",
   "display_name": "Python 3.7.6 64-bit ('tensorflow_two_gpu': conda)"
  }
 },
 "cells": [
  {
   "cell_type": "code",
   "execution_count": 23,
   "metadata": {},
   "outputs": [],
   "source": [
    "from models import unet\n",
    "from tensorflow.keras.utils import plot_model\n",
    "from tensorflow.keras.optimizers import Adam\n",
    "from unet_utils import dice_coef, dice_coef_loss\n",
    "import tensorflow as tf \n",
    "import numpy as np "
   ]
  },
  {
   "cell_type": "code",
   "execution_count": 6,
   "metadata": {},
   "outputs": [],
   "source": [
    "#physical_devices = tf.config.experimental.list_physical_devices('GPU')\n",
    "#tf.config.experimental.set_memory_growth(physical_devices[0], True)"
   ]
  },
  {
   "cell_type": "code",
   "execution_count": 7,
   "metadata": {},
   "outputs": [],
   "source": [
    "model = unet((240,240,1),2)"
   ]
  },
  {
   "cell_type": "code",
   "execution_count": 8,
   "metadata": {},
   "outputs": [
    {
     "output_type": "stream",
     "name": "stdout",
     "text": "Model: \"model_1\"\n__________________________________________________________________________________________________\nLayer (type)                    Output Shape         Param #     Connected to                     \n==================================================================================================\ninput_2 (InputLayer)            [(None, 240, 240, 1) 0                                            \n__________________________________________________________________________________________________\nconv2d_24 (Conv2D)              (None, 240, 240, 64) 640         input_2[0][0]                    \n__________________________________________________________________________________________________\nconv2d_25 (Conv2D)              (None, 240, 240, 64) 36928       conv2d_24[0][0]                  \n__________________________________________________________________________________________________\nmax_pooling2d_4 (MaxPooling2D)  (None, 120, 120, 64) 0           conv2d_25[0][0]                  \n__________________________________________________________________________________________________\nconv2d_26 (Conv2D)              (None, 120, 120, 128 73856       max_pooling2d_4[0][0]            \n__________________________________________________________________________________________________\nconv2d_27 (Conv2D)              (None, 120, 120, 128 147584      conv2d_26[0][0]                  \n__________________________________________________________________________________________________\nmax_pooling2d_5 (MaxPooling2D)  (None, 60, 60, 128)  0           conv2d_27[0][0]                  \n__________________________________________________________________________________________________\nconv2d_28 (Conv2D)              (None, 60, 60, 256)  295168      max_pooling2d_5[0][0]            \n__________________________________________________________________________________________________\nconv2d_29 (Conv2D)              (None, 60, 60, 256)  590080      conv2d_28[0][0]                  \n__________________________________________________________________________________________________\nmax_pooling2d_6 (MaxPooling2D)  (None, 30, 30, 256)  0           conv2d_29[0][0]                  \n__________________________________________________________________________________________________\nconv2d_30 (Conv2D)              (None, 30, 30, 512)  1180160     max_pooling2d_6[0][0]            \n__________________________________________________________________________________________________\nconv2d_31 (Conv2D)              (None, 30, 30, 512)  2359808     conv2d_30[0][0]                  \n__________________________________________________________________________________________________\ndropout_2 (Dropout)             (None, 30, 30, 512)  0           conv2d_31[0][0]                  \n__________________________________________________________________________________________________\nmax_pooling2d_7 (MaxPooling2D)  (None, 15, 15, 512)  0           dropout_2[0][0]                  \n__________________________________________________________________________________________________\nconv2d_32 (Conv2D)              (None, 15, 15, 1024) 4719616     max_pooling2d_7[0][0]            \n__________________________________________________________________________________________________\nconv2d_33 (Conv2D)              (None, 15, 15, 1024) 9438208     conv2d_32[0][0]                  \n__________________________________________________________________________________________________\ndropout_3 (Dropout)             (None, 15, 15, 1024) 0           conv2d_33[0][0]                  \n__________________________________________________________________________________________________\nup_sampling2d_4 (UpSampling2D)  (None, 30, 30, 1024) 0           dropout_3[0][0]                  \n__________________________________________________________________________________________________\nconv2d_34 (Conv2D)              (None, 30, 30, 512)  2097664     up_sampling2d_4[0][0]            \n__________________________________________________________________________________________________\nconcatenate_4 (Concatenate)     (None, 30, 30, 1024) 0           dropout_2[0][0]                  \n                                                                 conv2d_34[0][0]                  \n__________________________________________________________________________________________________\nconv2d_35 (Conv2D)              (None, 30, 30, 512)  4719104     concatenate_4[0][0]              \n__________________________________________________________________________________________________\nconv2d_36 (Conv2D)              (None, 30, 30, 512)  2359808     conv2d_35[0][0]                  \n__________________________________________________________________________________________________\nup_sampling2d_5 (UpSampling2D)  (None, 60, 60, 512)  0           conv2d_36[0][0]                  \n__________________________________________________________________________________________________\nconv2d_37 (Conv2D)              (None, 60, 60, 256)  524544      up_sampling2d_5[0][0]            \n__________________________________________________________________________________________________\nconcatenate_5 (Concatenate)     (None, 60, 60, 512)  0           conv2d_29[0][0]                  \n                                                                 conv2d_37[0][0]                  \n__________________________________________________________________________________________________\nconv2d_38 (Conv2D)              (None, 60, 60, 256)  1179904     concatenate_5[0][0]              \n__________________________________________________________________________________________________\nconv2d_39 (Conv2D)              (None, 60, 60, 256)  590080      conv2d_38[0][0]                  \n__________________________________________________________________________________________________\nup_sampling2d_6 (UpSampling2D)  (None, 120, 120, 256 0           conv2d_39[0][0]                  \n__________________________________________________________________________________________________\nconv2d_40 (Conv2D)              (None, 120, 120, 128 131200      up_sampling2d_6[0][0]            \n__________________________________________________________________________________________________\nconcatenate_6 (Concatenate)     (None, 120, 120, 256 0           conv2d_27[0][0]                  \n                                                                 conv2d_40[0][0]                  \n__________________________________________________________________________________________________\nconv2d_41 (Conv2D)              (None, 120, 120, 128 295040      concatenate_6[0][0]              \n__________________________________________________________________________________________________\nconv2d_42 (Conv2D)              (None, 120, 120, 128 147584      conv2d_41[0][0]                  \n__________________________________________________________________________________________________\nup_sampling2d_7 (UpSampling2D)  (None, 240, 240, 128 0           conv2d_42[0][0]                  \n__________________________________________________________________________________________________\nconv2d_43 (Conv2D)              (None, 240, 240, 64) 32832       up_sampling2d_7[0][0]            \n__________________________________________________________________________________________________\nconcatenate_7 (Concatenate)     (None, 240, 240, 128 0           conv2d_25[0][0]                  \n                                                                 conv2d_43[0][0]                  \n__________________________________________________________________________________________________\nconv2d_44 (Conv2D)              (None, 240, 240, 64) 73792       concatenate_7[0][0]              \n__________________________________________________________________________________________________\nconv2d_45 (Conv2D)              (None, 240, 240, 64) 36928       conv2d_44[0][0]                  \n__________________________________________________________________________________________________\nconv2d_46 (Conv2D)              (None, 240, 240, 2)  1154        conv2d_45[0][0]                  \n__________________________________________________________________________________________________\nconv2d_47 (Conv2D)              (None, 240, 240, 2)  6           conv2d_46[0][0]                  \n==================================================================================================\nTotal params: 31,031,688\nTrainable params: 31,031,688\nNon-trainable params: 0\n__________________________________________________________________________________________________\n"
    }
   ],
   "source": [
    "model.summary()"
   ]
  },
  {
   "cell_type": "code",
   "execution_count": 6,
   "metadata": {},
   "outputs": [],
   "source": [
    "#plot_model(model, show_shapes=True)"
   ]
  },
  {
   "cell_type": "code",
   "execution_count": 9,
   "metadata": {},
   "outputs": [],
   "source": [
    "#model.compile(optimizer=Adam(lr=1e-4),loss=tf.keras.losses.categorical_crossentropy, metrics=['accuracy'])\n",
    "model.compile(optimizer=Adam(lr=1e-4),loss=dice_coef_loss, metrics=[dice_coef])"
   ]
  },
  {
   "cell_type": "code",
   "execution_count": 10,
   "metadata": {},
   "outputs": [],
   "source": [
    "from datagenerator import DataGenerator"
   ]
  },
  {
   "cell_type": "code",
   "execution_count": 11,
   "metadata": {},
   "outputs": [],
   "source": [
    "path_train = '/home/michael/Desktop/Ceramic_dataset/train'\n",
    "path_train_a = '/home/michael/Desktop/Ceramic_dataset/trainannot'\n",
    "path_val = '/home/michael/Desktop/Ceramic_dataset/val'\n",
    "path_val_a = '/home/michael/Desktop/Ceramic_dataset/valannot'\n",
    "gen = DataGenerator(path_train,path_train_a,image_size=(240,240), batch_size=2)\n",
    "val_gen = DataGenerator(path_val,path_val_a,image_size=(240,240), batch_size=2)"
   ]
  },
  {
   "cell_type": "code",
   "execution_count": 12,
   "metadata": {},
   "outputs": [],
   "source": [
    "#model.fit(gen, epochs=1, validation_data=val_gen, verbose=1)\n",
    "model.load_weights('weights.h5')"
   ]
  },
  {
   "cell_type": "code",
   "execution_count": 13,
   "metadata": {},
   "outputs": [],
   "source": [
    "path_test = '/home/michael/Desktop/Ceramic_dataset/test'\n",
    "path_test_a = '/home/michael/Desktop/Ceramic_dataset/testannot'\n",
    "gen = DataGenerator(path_test,path_test_a,image_size=(240,240), batch_size=5)"
   ]
  },
  {
   "cell_type": "code",
   "execution_count": 11,
   "metadata": {},
   "outputs": [
    {
     "output_type": "stream",
     "name": "stdout",
     "text": "WARNING:tensorflow:sample_weight modes were coerced from\n  ...\n    to  \n  ['...']\n60/60 [==============================] - 450s 8s/step - loss: 0.3167 - accuracy: 0.9428\n"
    }
   ],
   "source": [
    "score = model.evaluate(gen)"
   ]
  },
  {
   "cell_type": "code",
   "execution_count": 14,
   "metadata": {},
   "outputs": [
    {
     "output_type": "stream",
     "name": "stdout",
     "text": "60/60 [==============================] - 284s 5s/step\n"
    }
   ],
   "source": [
    "y = model.predict(gen, verbose=1)"
   ]
  },
  {
   "cell_type": "code",
   "execution_count": 15,
   "metadata": {},
   "outputs": [
    {
     "output_type": "execute_result",
     "data": {
      "text/plain": "(300, 240, 240, 2)"
     },
     "metadata": {},
     "execution_count": 15
    }
   ],
   "source": [
    "y.shape "
   ]
  },
  {
   "cell_type": "code",
   "execution_count": 26,
   "metadata": {},
   "outputs": [
    {
     "output_type": "execute_result",
     "data": {
      "text/plain": "True"
     },
     "metadata": {},
     "execution_count": 26
    }
   ],
   "source": [
    "np.count_nonzero(y[3,:,:,1]) == y[3,:,:,1].shape[0]*y[3,:,:,1].shape[1]"
   ]
  },
  {
   "cell_type": "code",
   "execution_count": 22,
   "metadata": {},
   "outputs": [
    {
     "output_type": "execute_result",
     "data": {
      "text/plain": "<matplotlib.image.AxesImage at 0x7f0e4240c490>"
     },
     "metadata": {},
     "execution_count": 22
    },
    {
     "output_type": "display_data",
     "data": {
      "text/plain": "<Figure size 432x288 with 1 Axes>",
      "image/svg+xml": "<?xml version=\"1.0\" encoding=\"utf-8\" standalone=\"no\"?>\n<!DOCTYPE svg PUBLIC \"-//W3C//DTD SVG 1.1//EN\"\n  \"http://www.w3.org/Graphics/SVG/1.1/DTD/svg11.dtd\">\n<!-- Created with matplotlib (https://matplotlib.org/) -->\n<svg height=\"251.864344pt\" version=\"1.1\" viewBox=\"0 0 257.9275 251.864344\" width=\"257.9275pt\" xmlns=\"http://www.w3.org/2000/svg\" xmlns:xlink=\"http://www.w3.org/1999/xlink\">\n <defs>\n  <style type=\"text/css\">\n*{stroke-linecap:butt;stroke-linejoin:round;}\n  </style>\n </defs>\n <g id=\"figure_1\">\n  <g id=\"patch_1\">\n   <path d=\"M 0 251.864344 \nL 257.9275 251.864344 \nL 257.9275 0 \nL 0 0 \nz\n\" style=\"fill:none;\"/>\n  </g>\n  <g id=\"axes_1\">\n   <g id=\"patch_2\">\n    <path d=\"M 33.2875 227.986219 \nL 250.7275 227.986219 \nL 250.7275 10.546219 \nL 33.2875 10.546219 \nz\n\" style=\"fill:#ffffff;\"/>\n   </g>\n   <g clip-path=\"url(#pc97c8db6a8)\">\n    <image height=\"218\" id=\"imagee98fc6cd8e\" transform=\"scale(1 -1)translate(0 -218)\" width=\"218\" x=\"33.2875\" xlink:href=\"data:image/png;base64,\niVBORw0KGgoAAAANSUhEUgAAANoAAADaCAYAAADAHVzbAAAABHNCSVQICAgIfAhkiAAAAntJREFUeJzt08ENgEAMwDDK/juXKchJYE+QT2Z39wJedZ8OgD8wGgSMBgGjQcBoEDAaBIwGAaNBwGgQMBoEjAYBo0HAaBAwGgSMBgGjQcBoEDAaBIwGAaNBwGgQMBoEjAYBo0HAaBAwGgSMBgGjQcBoEDAaBIwGAaNBwGgQMBoEjAYBo0HAaBAwGgSMBgGjQcBoEDAaBIwGAaNBwGgQMBoEjAYBo0HAaBAwGgSMBgGjQcBoEDAaBIwGAaNBwGgQMBoEjAYBo0HAaBAwGgSMBgGjQcBoEDAaBIwGAaNBwGgQMBoEjAYBo0HAaBAwGgSMBgGjQcBoEDAaBIwGAaNBwGgQMBoEjAYBo0HAaBAwGgSMBgGjQcBoEDAaBIwGAaNBwGgQMBoEjAYBo0HAaBAwGgSMBgGjQcBoEDAaBIwGAaNBwGgQMBoEjAYBo0HAaBAwGgSMBgGjQcBoEDAaBIwGAaNBwGgQMBoEjAYBo0HAaBAwGgSMBgGjQcBoEDAaBIwGAaNBwGgQMBoEjAYBo0HAaBAwGgSMBgGjQcBoEDAaBIwGAaNBwGgQMBoEjAYBo0HAaBAwGgSMBgGjQcBoEDAaBIwGAaNBwGgQMBoEjAYBo0HAaBAwGgSMBgGjQcBoEDAaBIwGAaNBwGgQMBoEjAYBo0HAaBAwGgSMBgGjQcBoEDAaBIwGAaNBwGgQMBoEjAYBo0HAaBAwGgSMBgGjQcBoEDAaBIwGAaNBwGgQMBoEjAYBo0HAaBAwGgSMBgGjQcBoEDAaBIwGAaNBwGgQMBoEjAYBo0HAaBAwGgSMBgGjQcBoEDAaBIwGAaNBwGgQMBoEjAYBo0HgnpnTDfB5D9UXBbPZOGMpAAAAAElFTkSuQmCC\" y=\"-9.986219\"/>\n   </g>\n   <g id=\"matplotlib.axis_1\">\n    <g id=\"xtick_1\">\n     <g id=\"line2d_1\">\n      <defs>\n       <path d=\"M 0 0 \nL 0 3.5 \n\" id=\"mb4815befa2\" style=\"stroke:#000000;stroke-width:0.8;\"/>\n      </defs>\n      <g>\n       <use style=\"stroke:#000000;stroke-width:0.8;\" x=\"33.7405\" xlink:href=\"#mb4815befa2\" y=\"227.986219\"/>\n      </g>\n     </g>\n     <g id=\"text_1\">\n      <!-- 0 -->\n      <defs>\n       <path d=\"M 31.78125 66.40625 \nQ 24.171875 66.40625 20.328125 58.90625 \nQ 16.5 51.421875 16.5 36.375 \nQ 16.5 21.390625 20.328125 13.890625 \nQ 24.171875 6.390625 31.78125 6.390625 \nQ 39.453125 6.390625 43.28125 13.890625 \nQ 47.125 21.390625 47.125 36.375 \nQ 47.125 51.421875 43.28125 58.90625 \nQ 39.453125 66.40625 31.78125 66.40625 \nz\nM 31.78125 74.21875 \nQ 44.046875 74.21875 50.515625 64.515625 \nQ 56.984375 54.828125 56.984375 36.375 \nQ 56.984375 17.96875 50.515625 8.265625 \nQ 44.046875 -1.421875 31.78125 -1.421875 \nQ 19.53125 -1.421875 13.0625 8.265625 \nQ 6.59375 17.96875 6.59375 36.375 \nQ 6.59375 54.828125 13.0625 64.515625 \nQ 19.53125 74.21875 31.78125 74.21875 \nz\n\" id=\"DejaVuSans-48\"/>\n      </defs>\n      <g transform=\"translate(30.55925 242.584656)scale(0.1 -0.1)\">\n       <use xlink:href=\"#DejaVuSans-48\"/>\n      </g>\n     </g>\n    </g>\n    <g id=\"xtick_2\">\n     <g id=\"line2d_2\">\n      <g>\n       <use style=\"stroke:#000000;stroke-width:0.8;\" x=\"79.0405\" xlink:href=\"#mb4815befa2\" y=\"227.986219\"/>\n      </g>\n     </g>\n     <g id=\"text_2\">\n      <!-- 50 -->\n      <defs>\n       <path d=\"M 10.796875 72.90625 \nL 49.515625 72.90625 \nL 49.515625 64.59375 \nL 19.828125 64.59375 \nL 19.828125 46.734375 \nQ 21.96875 47.46875 24.109375 47.828125 \nQ 26.265625 48.1875 28.421875 48.1875 \nQ 40.625 48.1875 47.75 41.5 \nQ 54.890625 34.8125 54.890625 23.390625 \nQ 54.890625 11.625 47.5625 5.09375 \nQ 40.234375 -1.421875 26.90625 -1.421875 \nQ 22.3125 -1.421875 17.546875 -0.640625 \nQ 12.796875 0.140625 7.71875 1.703125 \nL 7.71875 11.625 \nQ 12.109375 9.234375 16.796875 8.0625 \nQ 21.484375 6.890625 26.703125 6.890625 \nQ 35.15625 6.890625 40.078125 11.328125 \nQ 45.015625 15.765625 45.015625 23.390625 \nQ 45.015625 31 40.078125 35.4375 \nQ 35.15625 39.890625 26.703125 39.890625 \nQ 22.75 39.890625 18.8125 39.015625 \nQ 14.890625 38.140625 10.796875 36.28125 \nz\n\" id=\"DejaVuSans-53\"/>\n      </defs>\n      <g transform=\"translate(72.678 242.584656)scale(0.1 -0.1)\">\n       <use xlink:href=\"#DejaVuSans-53\"/>\n       <use x=\"63.623047\" xlink:href=\"#DejaVuSans-48\"/>\n      </g>\n     </g>\n    </g>\n    <g id=\"xtick_3\">\n     <g id=\"line2d_3\">\n      <g>\n       <use style=\"stroke:#000000;stroke-width:0.8;\" x=\"124.3405\" xlink:href=\"#mb4815befa2\" y=\"227.986219\"/>\n      </g>\n     </g>\n     <g id=\"text_3\">\n      <!-- 100 -->\n      <defs>\n       <path d=\"M 12.40625 8.296875 \nL 28.515625 8.296875 \nL 28.515625 63.921875 \nL 10.984375 60.40625 \nL 10.984375 69.390625 \nL 28.421875 72.90625 \nL 38.28125 72.90625 \nL 38.28125 8.296875 \nL 54.390625 8.296875 \nL 54.390625 0 \nL 12.40625 0 \nz\n\" id=\"DejaVuSans-49\"/>\n      </defs>\n      <g transform=\"translate(114.79675 242.584656)scale(0.1 -0.1)\">\n       <use xlink:href=\"#DejaVuSans-49\"/>\n       <use x=\"63.623047\" xlink:href=\"#DejaVuSans-48\"/>\n       <use x=\"127.246094\" xlink:href=\"#DejaVuSans-48\"/>\n      </g>\n     </g>\n    </g>\n    <g id=\"xtick_4\">\n     <g id=\"line2d_4\">\n      <g>\n       <use style=\"stroke:#000000;stroke-width:0.8;\" x=\"169.6405\" xlink:href=\"#mb4815befa2\" y=\"227.986219\"/>\n      </g>\n     </g>\n     <g id=\"text_4\">\n      <!-- 150 -->\n      <g transform=\"translate(160.09675 242.584656)scale(0.1 -0.1)\">\n       <use xlink:href=\"#DejaVuSans-49\"/>\n       <use x=\"63.623047\" xlink:href=\"#DejaVuSans-53\"/>\n       <use x=\"127.246094\" xlink:href=\"#DejaVuSans-48\"/>\n      </g>\n     </g>\n    </g>\n    <g id=\"xtick_5\">\n     <g id=\"line2d_5\">\n      <g>\n       <use style=\"stroke:#000000;stroke-width:0.8;\" x=\"214.9405\" xlink:href=\"#mb4815befa2\" y=\"227.986219\"/>\n      </g>\n     </g>\n     <g id=\"text_5\">\n      <!-- 200 -->\n      <defs>\n       <path d=\"M 19.1875 8.296875 \nL 53.609375 8.296875 \nL 53.609375 0 \nL 7.328125 0 \nL 7.328125 8.296875 \nQ 12.9375 14.109375 22.625 23.890625 \nQ 32.328125 33.6875 34.8125 36.53125 \nQ 39.546875 41.84375 41.421875 45.53125 \nQ 43.3125 49.21875 43.3125 52.78125 \nQ 43.3125 58.59375 39.234375 62.25 \nQ 35.15625 65.921875 28.609375 65.921875 \nQ 23.96875 65.921875 18.8125 64.3125 \nQ 13.671875 62.703125 7.8125 59.421875 \nL 7.8125 69.390625 \nQ 13.765625 71.78125 18.9375 73 \nQ 24.125 74.21875 28.421875 74.21875 \nQ 39.75 74.21875 46.484375 68.546875 \nQ 53.21875 62.890625 53.21875 53.421875 \nQ 53.21875 48.921875 51.53125 44.890625 \nQ 49.859375 40.875 45.40625 35.40625 \nQ 44.1875 33.984375 37.640625 27.21875 \nQ 31.109375 20.453125 19.1875 8.296875 \nz\n\" id=\"DejaVuSans-50\"/>\n      </defs>\n      <g transform=\"translate(205.39675 242.584656)scale(0.1 -0.1)\">\n       <use xlink:href=\"#DejaVuSans-50\"/>\n       <use x=\"63.623047\" xlink:href=\"#DejaVuSans-48\"/>\n       <use x=\"127.246094\" xlink:href=\"#DejaVuSans-48\"/>\n      </g>\n     </g>\n    </g>\n   </g>\n   <g id=\"matplotlib.axis_2\">\n    <g id=\"ytick_1\">\n     <g id=\"line2d_6\">\n      <defs>\n       <path d=\"M 0 0 \nL -3.5 0 \n\" id=\"m64ee4e71b8\" style=\"stroke:#000000;stroke-width:0.8;\"/>\n      </defs>\n      <g>\n       <use style=\"stroke:#000000;stroke-width:0.8;\" x=\"33.2875\" xlink:href=\"#m64ee4e71b8\" y=\"10.999219\"/>\n      </g>\n     </g>\n     <g id=\"text_6\">\n      <!-- 0 -->\n      <g transform=\"translate(19.925 14.798437)scale(0.1 -0.1)\">\n       <use xlink:href=\"#DejaVuSans-48\"/>\n      </g>\n     </g>\n    </g>\n    <g id=\"ytick_2\">\n     <g id=\"line2d_7\">\n      <g>\n       <use style=\"stroke:#000000;stroke-width:0.8;\" x=\"33.2875\" xlink:href=\"#m64ee4e71b8\" y=\"56.299219\"/>\n      </g>\n     </g>\n     <g id=\"text_7\">\n      <!-- 50 -->\n      <g transform=\"translate(13.5625 60.098437)scale(0.1 -0.1)\">\n       <use xlink:href=\"#DejaVuSans-53\"/>\n       <use x=\"63.623047\" xlink:href=\"#DejaVuSans-48\"/>\n      </g>\n     </g>\n    </g>\n    <g id=\"ytick_3\">\n     <g id=\"line2d_8\">\n      <g>\n       <use style=\"stroke:#000000;stroke-width:0.8;\" x=\"33.2875\" xlink:href=\"#m64ee4e71b8\" y=\"101.599219\"/>\n      </g>\n     </g>\n     <g id=\"text_8\">\n      <!-- 100 -->\n      <g transform=\"translate(7.2 105.398437)scale(0.1 -0.1)\">\n       <use xlink:href=\"#DejaVuSans-49\"/>\n       <use x=\"63.623047\" xlink:href=\"#DejaVuSans-48\"/>\n       <use x=\"127.246094\" xlink:href=\"#DejaVuSans-48\"/>\n      </g>\n     </g>\n    </g>\n    <g id=\"ytick_4\">\n     <g id=\"line2d_9\">\n      <g>\n       <use style=\"stroke:#000000;stroke-width:0.8;\" x=\"33.2875\" xlink:href=\"#m64ee4e71b8\" y=\"146.899219\"/>\n      </g>\n     </g>\n     <g id=\"text_9\">\n      <!-- 150 -->\n      <g transform=\"translate(7.2 150.698437)scale(0.1 -0.1)\">\n       <use xlink:href=\"#DejaVuSans-49\"/>\n       <use x=\"63.623047\" xlink:href=\"#DejaVuSans-53\"/>\n       <use x=\"127.246094\" xlink:href=\"#DejaVuSans-48\"/>\n      </g>\n     </g>\n    </g>\n    <g id=\"ytick_5\">\n     <g id=\"line2d_10\">\n      <g>\n       <use style=\"stroke:#000000;stroke-width:0.8;\" x=\"33.2875\" xlink:href=\"#m64ee4e71b8\" y=\"192.199219\"/>\n      </g>\n     </g>\n     <g id=\"text_10\">\n      <!-- 200 -->\n      <g transform=\"translate(7.2 195.998437)scale(0.1 -0.1)\">\n       <use xlink:href=\"#DejaVuSans-50\"/>\n       <use x=\"63.623047\" xlink:href=\"#DejaVuSans-48\"/>\n       <use x=\"127.246094\" xlink:href=\"#DejaVuSans-48\"/>\n      </g>\n     </g>\n    </g>\n   </g>\n   <g id=\"patch_3\">\n    <path d=\"M 33.2875 227.986219 \nL 33.2875 10.546219 \n\" style=\"fill:none;stroke:#000000;stroke-linecap:square;stroke-linejoin:miter;stroke-width:0.8;\"/>\n   </g>\n   <g id=\"patch_4\">\n    <path d=\"M 250.7275 227.986219 \nL 250.7275 10.546219 \n\" style=\"fill:none;stroke:#000000;stroke-linecap:square;stroke-linejoin:miter;stroke-width:0.8;\"/>\n   </g>\n   <g id=\"patch_5\">\n    <path d=\"M 33.2875 227.986219 \nL 250.7275 227.986219 \n\" style=\"fill:none;stroke:#000000;stroke-linecap:square;stroke-linejoin:miter;stroke-width:0.8;\"/>\n   </g>\n   <g id=\"patch_6\">\n    <path d=\"M 33.2875 10.546219 \nL 250.7275 10.546219 \n\" style=\"fill:none;stroke:#000000;stroke-linecap:square;stroke-linejoin:miter;stroke-width:0.8;\"/>\n   </g>\n  </g>\n </g>\n <defs>\n  <clipPath id=\"pc97c8db6a8\">\n   <rect height=\"217.44\" width=\"217.44\" x=\"33.2875\" y=\"10.546219\"/>\n  </clipPath>\n </defs>\n</svg>\n",
      "image/png": "[encoded data removed]"
     },
     "metadata": {
      "needs_background": "light"
     }
    }
   ],
   "source": [
    "import matplotlib.pyplot as plt \n",
    "plt.imshow(y[3,:,:,1], cmap='gray')"
   ]
  },
  {
   "cell_type": "code",
   "execution_count": null,
   "metadata": {},
   "outputs": [],
   "source": []
  }
 ]
}