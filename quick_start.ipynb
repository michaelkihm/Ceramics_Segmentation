{
 "nbformat": 4,
 "nbformat_minor": 2,
 "metadata": {
  "language_info": {
   "name": "python",
   "codemirror_mode": {
    "name": "ipython",
    "version": 3
   },
   "version": "3.7.7-final"
  },
  "orig_nbformat": 2,
  "file_extension": ".py",
  "mimetype": "text/x-python",
  "name": "python",
  "npconvert_exporter": "python",
  "pygments_lexer": "ipython3",
  "version": 3,
  "kernelspec": {
   "name": "python37764bitceramicsegmentationconda6f08b787b6c54c91a3227c09bc0a722d",
   "display_name": "Python 3.7.7 64-bit ('Ceramic_Segmentation': conda)"
  }
 },
 "cells": [
  {
   "cell_type": "code",
   "execution_count": 1,
   "metadata": {},
   "outputs": [],
   "source": [
    "from models import unet\n",
    "from tensorflow.keras.utils import plot_model\n",
    "from tensorflow.keras.optimizers import Adam\n",
    "import tensorflow as tf "
   ]
  },
  {
   "cell_type": "code",
   "execution_count": 2,
   "metadata": {},
   "outputs": [],
   "source": [
    "model = unet((240,240,1),2)"
   ]
  },
  {
   "cell_type": "code",
   "execution_count": 3,
   "metadata": {},
   "outputs": [
    {
     "output_type": "stream",
     "name": "stdout",
     "text": "Model: \"model\"\n__________________________________________________________________________________________________\nLayer (type)                    Output Shape         Param #     Connected to                     \n==================================================================================================\ninput_1 (InputLayer)            [(None, 240, 240, 1) 0                                            \n__________________________________________________________________________________________________\nconv2d (Conv2D)                 (None, 240, 240, 64) 640         input_1[0][0]                    \n__________________________________________________________________________________________________\nconv2d_1 (Conv2D)               (None, 240, 240, 64) 36928       conv2d[0][0]                     \n__________________________________________________________________________________________________\nmax_pooling2d (MaxPooling2D)    (None, 120, 120, 64) 0           conv2d_1[0][0]                   \n__________________________________________________________________________________________________\nconv2d_2 (Conv2D)               (None, 120, 120, 128 73856       max_pooling2d[0][0]              \n__________________________________________________________________________________________________\nconv2d_3 (Conv2D)               (None, 120, 120, 128 147584      conv2d_2[0][0]                   \n__________________________________________________________________________________________________\nmax_pooling2d_1 (MaxPooling2D)  (None, 60, 60, 128)  0           conv2d_3[0][0]                   \n__________________________________________________________________________________________________\nconv2d_4 (Conv2D)               (None, 60, 60, 256)  295168      max_pooling2d_1[0][0]            \n__________________________________________________________________________________________________\nconv2d_5 (Conv2D)               (None, 60, 60, 256)  590080      conv2d_4[0][0]                   \n__________________________________________________________________________________________________\nmax_pooling2d_2 (MaxPooling2D)  (None, 30, 30, 256)  0           conv2d_5[0][0]                   \n__________________________________________________________________________________________________\nconv2d_6 (Conv2D)               (None, 30, 30, 512)  1180160     max_pooling2d_2[0][0]            \n__________________________________________________________________________________________________\nconv2d_7 (Conv2D)               (None, 30, 30, 512)  2359808     conv2d_6[0][0]                   \n__________________________________________________________________________________________________\ndropout (Dropout)               (None, 30, 30, 512)  0           conv2d_7[0][0]                   \n__________________________________________________________________________________________________\nmax_pooling2d_3 (MaxPooling2D)  (None, 15, 15, 512)  0           dropout[0][0]                    \n__________________________________________________________________________________________________\nconv2d_8 (Conv2D)               (None, 15, 15, 1024) 4719616     max_pooling2d_3[0][0]            \n__________________________________________________________________________________________________\nconv2d_9 (Conv2D)               (None, 15, 15, 1024) 9438208     conv2d_8[0][0]                   \n__________________________________________________________________________________________________\ndropout_1 (Dropout)             (None, 15, 15, 1024) 0           conv2d_9[0][0]                   \n__________________________________________________________________________________________________\nup_sampling2d (UpSampling2D)    (None, 30, 30, 1024) 0           dropout_1[0][0]                  \n__________________________________________________________________________________________________\nconv2d_10 (Conv2D)              (None, 30, 30, 512)  2097664     up_sampling2d[0][0]              \n__________________________________________________________________________________________________\nconcatenate (Concatenate)       (None, 30, 30, 1024) 0           dropout[0][0]                    \n                                                                 conv2d_10[0][0]                  \n__________________________________________________________________________________________________\nconv2d_11 (Conv2D)              (None, 30, 30, 512)  4719104     concatenate[0][0]                \n__________________________________________________________________________________________________\nconv2d_12 (Conv2D)              (None, 30, 30, 512)  2359808     conv2d_11[0][0]                  \n__________________________________________________________________________________________________\nup_sampling2d_1 (UpSampling2D)  (None, 60, 60, 512)  0           conv2d_12[0][0]                  \n__________________________________________________________________________________________________\nconv2d_13 (Conv2D)              (None, 60, 60, 256)  524544      up_sampling2d_1[0][0]            \n__________________________________________________________________________________________________\nconcatenate_1 (Concatenate)     (None, 60, 60, 512)  0           conv2d_5[0][0]                   \n                                                                 conv2d_13[0][0]                  \n__________________________________________________________________________________________________\nconv2d_14 (Conv2D)              (None, 60, 60, 256)  1179904     concatenate_1[0][0]              \n__________________________________________________________________________________________________\nconv2d_15 (Conv2D)              (None, 60, 60, 256)  590080      conv2d_14[0][0]                  \n__________________________________________________________________________________________________\nup_sampling2d_2 (UpSampling2D)  (None, 120, 120, 256 0           conv2d_15[0][0]                  \n__________________________________________________________________________________________________\nconv2d_16 (Conv2D)              (None, 120, 120, 128 131200      up_sampling2d_2[0][0]            \n__________________________________________________________________________________________________\nconcatenate_2 (Concatenate)     (None, 120, 120, 256 0           conv2d_3[0][0]                   \n                                                                 conv2d_16[0][0]                  \n__________________________________________________________________________________________________\nconv2d_17 (Conv2D)              (None, 120, 120, 128 295040      concatenate_2[0][0]              \n__________________________________________________________________________________________________\nconv2d_18 (Conv2D)              (None, 120, 120, 128 147584      conv2d_17[0][0]                  \n__________________________________________________________________________________________________\nup_sampling2d_3 (UpSampling2D)  (None, 240, 240, 128 0           conv2d_18[0][0]                  \n__________________________________________________________________________________________________\nconv2d_19 (Conv2D)              (None, 240, 240, 64) 32832       up_sampling2d_3[0][0]            \n__________________________________________________________________________________________________\nconcatenate_3 (Concatenate)     (None, 240, 240, 128 0           conv2d_1[0][0]                   \n                                                                 conv2d_19[0][0]                  \n__________________________________________________________________________________________________\nconv2d_20 (Conv2D)              (None, 240, 240, 64) 73792       concatenate_3[0][0]              \n__________________________________________________________________________________________________\nconv2d_21 (Conv2D)              (None, 240, 240, 64) 36928       conv2d_20[0][0]                  \n__________________________________________________________________________________________________\nconv2d_22 (Conv2D)              (None, 240, 240, 2)  1154        conv2d_21[0][0]                  \n__________________________________________________________________________________________________\nconv2d_23 (Conv2D)              (None, 240, 240, 2)  6           conv2d_22[0][0]                  \n==================================================================================================\nTotal params: 31,031,688\nTrainable params: 31,031,688\nNon-trainable params: 0\n__________________________________________________________________________________________________\n"
    }
   ],
   "source": [
    "model.summary()"
   ]
  },
  {
   "cell_type": "code",
   "execution_count": 12,
   "metadata": {},
   "outputs": [],
   "source": [
    "#plot_model(model, show_shapes=True)"
   ]
  },
  {
   "cell_type": "code",
   "execution_count": 13,
   "metadata": {},
   "outputs": [],
   "source": [
    "model.compile(optimizer=Adam(lr=1e-4),loss=tf.keras.losses.categorical_crossentropy, metrics=['accuracy'])"
   ]
  },
  {
   "cell_type": "code",
   "execution_count": 6,
   "metadata": {},
   "outputs": [],
   "source": [
    "from datagenerator import DataGenerator"
   ]
  },
  {
   "cell_type": "code",
   "execution_count": 14,
   "metadata": {},
   "outputs": [],
   "source": [
    "path_train = '/home/michael/Desktop/Ceramic_dataset/train'\n",
    "path_train_a = '/home/michael/Desktop/Ceramic_dataset/trainannot'\n",
    "path_val = '/home/michael/Desktop/Ceramic_dataset/val'\n",
    "path_val_a = '/home/michael/Desktop/Ceramic_dataset/valannot'\n",
    "gen = DataGenerator(path_train,path_train_a,image_size=(240,240), batch_size=5)\n",
    "val_gen = DataGenerator(path_val,path_val_a,image_size=(240,240), batch_size=5)"
   ]
  },
  {
   "cell_type": "code",
   "execution_count": 15,
   "metadata": {},
   "outputs": [
    {
     "output_type": "stream",
     "name": "stdout",
     "text": "WARNING:tensorflow:sample_weight modes were coerced from\n  ...\n    to  \n  ['...']\nWARNING:tensorflow:sample_weight modes were coerced from\n  ...\n    to  \n  ['...']\nTrain for 274 steps, validate for 60 steps\n  1/274 [..............................] - ETA: 2:00:08 - loss: 0.6928 - accuracy: 0.9108"
    }
   ],
   "source": [
    "model.fit(gen, epochs=1, validation_data=val_gen, verbose=1)"
   ]
  },
  {
   "cell_type": "code",
   "execution_count": 4,
   "metadata": {},
   "outputs": [],
   "source": [
    "model.save('model.h5')"
   ]
  },
  {
   "cell_type": "code",
   "execution_count": null,
   "metadata": {},
   "outputs": [],
   "source": []
  }
 ]
}