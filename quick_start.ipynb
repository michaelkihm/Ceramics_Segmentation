{
 "nbformat": 4,
 "nbformat_minor": 2,
 "metadata": {
  "language_info": {
   "name": "python",
   "codemirror_mode": {
    "name": "ipython",
    "version": 3
   },
   "version": "3.7.7-final"
  },
  "orig_nbformat": 2,
  "file_extension": ".py",
  "mimetype": "text/x-python",
  "name": "python",
  "npconvert_exporter": "python",
  "pygments_lexer": "ipython3",
  "version": 3,
  "kernelspec": {
   "name": "python37764bitceramicsegmentationconda6f08b787b6c54c91a3227c09bc0a722d",
   "display_name": "Python 3.7.7 64-bit ('Ceramic_Segmentation': conda)"
  }
 },
 "cells": [
  {
   "cell_type": "code",
   "execution_count": 5,
   "metadata": {},
   "outputs": [],
   "source": [
    "from models import unet\n",
    "from tensorflow.keras.utils import plot_model\n",
    "from tensorflow.keras.optimizers import Adam\n",
    "import tensorflow as tf "
   ]
  },
  {
   "cell_type": "code",
   "execution_count": 6,
   "metadata": {},
   "outputs": [],
   "source": [
    "model = unet((240,240,1),2)"
   ]
  },
  {
   "cell_type": "code",
   "execution_count": 7,
   "metadata": {},
   "outputs": [
    {
     "output_type": "stream",
     "name": "stdout",
     "text": "Model: \"model_1\"\n__________________________________________________________________________________________________\nLayer (type)                    Output Shape         Param #     Connected to                     \n==================================================================================================\ninput_2 (InputLayer)            [(None, 240, 240, 1) 0                                            \n__________________________________________________________________________________________________\nconv2d_24 (Conv2D)              (None, 240, 240, 64) 640         input_2[0][0]                    \n__________________________________________________________________________________________________\nconv2d_25 (Conv2D)              (None, 240, 240, 64) 36928       conv2d_24[0][0]                  \n__________________________________________________________________________________________________\nmax_pooling2d_4 (MaxPooling2D)  (None, 120, 120, 64) 0           conv2d_25[0][0]                  \n__________________________________________________________________________________________________\nconv2d_26 (Conv2D)              (None, 120, 120, 128 73856       max_pooling2d_4[0][0]            \n__________________________________________________________________________________________________\nconv2d_27 (Conv2D)              (None, 120, 120, 128 147584      conv2d_26[0][0]                  \n__________________________________________________________________________________________________\nmax_pooling2d_5 (MaxPooling2D)  (None, 60, 60, 128)  0           conv2d_27[0][0]                  \n__________________________________________________________________________________________________\nconv2d_28 (Conv2D)              (None, 60, 60, 256)  295168      max_pooling2d_5[0][0]            \n__________________________________________________________________________________________________\nconv2d_29 (Conv2D)              (None, 60, 60, 256)  590080      conv2d_28[0][0]                  \n__________________________________________________________________________________________________\nmax_pooling2d_6 (MaxPooling2D)  (None, 30, 30, 256)  0           conv2d_29[0][0]                  \n__________________________________________________________________________________________________\nconv2d_30 (Conv2D)              (None, 30, 30, 512)  1180160     max_pooling2d_6[0][0]            \n__________________________________________________________________________________________________\nconv2d_31 (Conv2D)              (None, 30, 30, 512)  2359808     conv2d_30[0][0]                  \n__________________________________________________________________________________________________\ndropout_2 (Dropout)             (None, 30, 30, 512)  0           conv2d_31[0][0]                  \n__________________________________________________________________________________________________\nmax_pooling2d_7 (MaxPooling2D)  (None, 15, 15, 512)  0           dropout_2[0][0]                  \n__________________________________________________________________________________________________\nconv2d_32 (Conv2D)              (None, 15, 15, 1024) 4719616     max_pooling2d_7[0][0]            \n__________________________________________________________________________________________________\nconv2d_33 (Conv2D)              (None, 15, 15, 1024) 9438208     conv2d_32[0][0]                  \n__________________________________________________________________________________________________\ndropout_3 (Dropout)             (None, 15, 15, 1024) 0           conv2d_33[0][0]                  \n__________________________________________________________________________________________________\nup_sampling2d_4 (UpSampling2D)  (None, 30, 30, 1024) 0           dropout_3[0][0]                  \n__________________________________________________________________________________________________\nconv2d_34 (Conv2D)              (None, 30, 30, 512)  2097664     up_sampling2d_4[0][0]            \n__________________________________________________________________________________________________\nconcatenate_4 (Concatenate)     (None, 30, 30, 1024) 0           dropout_2[0][0]                  \n                                                                 conv2d_34[0][0]                  \n__________________________________________________________________________________________________\nconv2d_35 (Conv2D)              (None, 30, 30, 512)  4719104     concatenate_4[0][0]              \n__________________________________________________________________________________________________\nconv2d_36 (Conv2D)              (None, 30, 30, 512)  2359808     conv2d_35[0][0]                  \n__________________________________________________________________________________________________\nup_sampling2d_5 (UpSampling2D)  (None, 60, 60, 512)  0           conv2d_36[0][0]                  \n__________________________________________________________________________________________________\nconv2d_37 (Conv2D)              (None, 60, 60, 256)  524544      up_sampling2d_5[0][0]            \n__________________________________________________________________________________________________\nconcatenate_5 (Concatenate)     (None, 60, 60, 512)  0           conv2d_29[0][0]                  \n                                                                 conv2d_37[0][0]                  \n__________________________________________________________________________________________________\nconv2d_38 (Conv2D)              (None, 60, 60, 256)  1179904     concatenate_5[0][0]              \n__________________________________________________________________________________________________\nconv2d_39 (Conv2D)              (None, 60, 60, 256)  590080      conv2d_38[0][0]                  \n__________________________________________________________________________________________________\nup_sampling2d_6 (UpSampling2D)  (None, 120, 120, 256 0           conv2d_39[0][0]                  \n__________________________________________________________________________________________________\nconv2d_40 (Conv2D)              (None, 120, 120, 128 131200      up_sampling2d_6[0][0]            \n__________________________________________________________________________________________________\nconcatenate_6 (Concatenate)     (None, 120, 120, 256 0           conv2d_27[0][0]                  \n                                                                 conv2d_40[0][0]                  \n__________________________________________________________________________________________________\nconv2d_41 (Conv2D)              (None, 120, 120, 128 295040      concatenate_6[0][0]              \n__________________________________________________________________________________________________\nconv2d_42 (Conv2D)              (None, 120, 120, 128 147584      conv2d_41[0][0]                  \n__________________________________________________________________________________________________\nup_sampling2d_7 (UpSampling2D)  (None, 240, 240, 128 0           conv2d_42[0][0]                  \n__________________________________________________________________________________________________\nconv2d_43 (Conv2D)              (None, 240, 240, 64) 32832       up_sampling2d_7[0][0]            \n__________________________________________________________________________________________________\nconcatenate_7 (Concatenate)     (None, 240, 240, 128 0           conv2d_25[0][0]                  \n                                                                 conv2d_43[0][0]                  \n__________________________________________________________________________________________________\nconv2d_44 (Conv2D)              (None, 240, 240, 64) 73792       concatenate_7[0][0]              \n__________________________________________________________________________________________________\nconv2d_45 (Conv2D)              (None, 240, 240, 64) 36928       conv2d_44[0][0]                  \n__________________________________________________________________________________________________\nconv2d_46 (Conv2D)              (None, 240, 240, 2)  1154        conv2d_45[0][0]                  \n__________________________________________________________________________________________________\nconv2d_47 (Conv2D)              (None, 240, 240, 2)  6           conv2d_46[0][0]                  \n==================================================================================================\nTotal params: 31,031,688\nTrainable params: 31,031,688\nNon-trainable params: 0\n__________________________________________________________________________________________________\n"
    }
   ],
   "source": [
    "model.summary()"
   ]
  },
  {
   "cell_type": "code",
   "execution_count": 8,
   "metadata": {},
   "outputs": [],
   "source": [
    "#plot_model(model, show_shapes=True)"
   ]
  },
  {
   "cell_type": "code",
   "execution_count": 9,
   "metadata": {},
   "outputs": [],
   "source": [
    "model.compile(optimizer=Adam(lr=1e-4),loss=tf.keras.losses.categorical_crossentropy, metrics=['accuracy'])"
   ]
  },
  {
   "cell_type": "code",
   "execution_count": 10,
   "metadata": {},
   "outputs": [],
   "source": [
    "from datagenerator import DataGenerator"
   ]
  },
  {
   "cell_type": "code",
   "execution_count": 14,
   "metadata": {},
   "outputs": [],
   "source": [
    "path_train = '/home/michael/Desktop/Ceramic_dataset/train'\n",
    "path_train_a = '/home/michael/Desktop/Ceramic_dataset/trainannot'\n",
    "path_val = '/home/michael/Desktop/Ceramic_dataset/val'\n",
    "path_val_a = '/home/michael/Desktop/Ceramic_dataset/valannot'\n",
    "gen = DataGenerator(path_train,path_train_a,image_size=(240,240), batch_size=5)\n",
    "val_gen = DataGenerator(path_val,path_val_a,image_size=(240,240), batch_size=5)"
   ]
  },
  {
   "cell_type": "code",
   "execution_count": 12,
   "metadata": {},
   "outputs": [
    {
     "output_type": "error",
     "ename": "SyntaxError",
     "evalue": "invalid syntax (<ipython-input-12-09e790fa549a>, line 2)",
     "traceback": [
      "\u001b[0;36m  File \u001b[0;32m\"<ipython-input-12-09e790fa549a>\"\u001b[0;36m, line \u001b[0;32m2\u001b[0m\n\u001b[0;31m    model.loadload_weights()we''w'weights_50_epochs.h5'\u001b[0m\n\u001b[0m                             ^\u001b[0m\n\u001b[0;31mSyntaxError\u001b[0m\u001b[0;31m:\u001b[0m invalid syntax\n"
     ]
    }
   ],
   "source": [
    "#model.fit(gen, epochs=1, validation_data=val_gen, verbose=1)\n",
    "model.loadload_weights()we''w'weights_50_epochs.h5'"
   ]
  },
  {
   "cell_type": "code",
   "execution_count": 4,
   "metadata": {},
   "outputs": [],
   "source": [
    "model.save('model.h5')"
   ]
  },
  {
   "cell_type": "code",
   "execution_count": null,
   "metadata": {},
   "outputs": [],
   "source": []
  }
 ]
}